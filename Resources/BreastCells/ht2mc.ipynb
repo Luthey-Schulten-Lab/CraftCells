{
 "cells": [
  {
   "cell_type": "markdown",
   "metadata": {},
   "source": [
    "# Holotomography to Minecraft\n",
    "\n",
    "**Author**: Kevin Tan\\\n",
    "**Date**: 10/14/2024\\\n",
    "**Description**: A step-by-step guide to converting a Holotomography image taken on the Nanolive 3D Cell Explorer microscope to a Minecraft schematic. The resulting schematic can be loaded into Minecraft with Amulet or Worldedit.\\\n",
    "**Python Version**: Python 3.9.19 (recommended)"
   ]
  },
  {
   "cell_type": "markdown",
   "metadata": {},
   "source": [
    "## Part 1 - Segmentation with ImageJ\n",
    "\n",
    "### PyImageJ installation requires conda (or mamba)\n",
    "You can install Miniconda [here](https://docs.anaconda.com/miniconda/)\n",
    "\n",
    "### Install PyImageJ\n",
    "Activate conda-forge\n",
    "```\n",
    "conda config --add channels conda-forge\n",
    "conda config --set channel_priority strict\n",
    "```\n",
    "\n",
    "Install PyImageJ with OpenJDK 11\n",
    "```\n",
    "conda install pyimagej openjdk=11\n",
    "```\n",
    "\n",
    "More information can be found here:\n",
    "https://py.imagej.net/en/latest/Install.html#installation"
   ]
  },
  {
   "cell_type": "markdown",
   "metadata": {},
   "source": [
    "### Initialize PyImageJ"
   ]
  },
  {
   "cell_type": "code",
   "execution_count": 1,
   "metadata": {},
   "outputs": [],
   "source": [
    "import imagej\n",
    "\n",
    "ij = imagej.init(['sc.fiji:fiji:2.14.0', 'fr.inra.ijpb:MorphoLibJ_:1.6.2', 'org.framagit.mcib3d:mcib3d-plugins:4.0.63'], mode='interactive')"
   ]
  },
  {
   "cell_type": "markdown",
   "metadata": {},
   "source": [
    "### Specify directories"
   ]
  },
  {
   "cell_type": "code",
   "execution_count": 2,
   "metadata": {},
   "outputs": [],
   "source": [
    "from pathlib import Path\n",
    "input_path = \"raw_holotomography/breast_cancer.tiff\"\n",
    "#input_path = \"raw_holotomography/breast_normal.tiff\"\n",
    "output_dir = \"output\"\n",
    "Path(output_dir).mkdir(exist_ok=True)\n",
    "title = Path(input_path).stem"
   ]
  },
  {
   "cell_type": "markdown",
   "metadata": {},
   "source": [
    "### Open a holotomographic image"
   ]
  },
  {
   "cell_type": "code",
   "execution_count": 3,
   "metadata": {},
   "outputs": [],
   "source": [
    "orig = ij.io().open(input_path)\n",
    "ij.ui().show(orig)"
   ]
  },
  {
   "cell_type": "markdown",
   "metadata": {},
   "source": [
    "### Crop, interpolate and filter the image"
   ]
  },
  {
   "cell_type": "code",
   "execution_count": 4,
   "metadata": {},
   "outputs": [],
   "source": [
    "processed_macro = \"\"\"\n",
    "#@ String title\n",
    "\n",
    "selectImage(title + \".tiff\");\n",
    "title = title + \"_processed.tiff\";\n",
    "run(\"Duplicate...\", \"title=[title] duplicate\");\n",
    "run(\"Properties...\", \"channels=1 slices=96 frames=1 pixel_width=1.0000 pixel_height=1.0000 voxel_depth=1.0000\");\n",
    "run(\"Specify...\", \"width=440 height=440 x=36 y=36 slice=1\");\n",
    "run(\"Crop\");\n",
    "//run(\"Size...\", \"width=440 height=440 depth=176 interpolation=Bilinear\");\n",
    "run(\"Enhance Contrast...\", \"saturated=0.35 process_all use\");\n",
    "setOption(\"ScaleConversions\", true);\n",
    "run(\"8-bit\");\n",
    "run(\"Subtract Background...\", \"rolling=50 stack\");\n",
    "\"\"\"\n",
    "\n",
    "result = ij.py.run_macro(processed_macro, {'title': title})"
   ]
  },
  {
   "cell_type": "markdown",
   "metadata": {},
   "source": [
    "### Automatically segment the cytoplasm"
   ]
  },
  {
   "cell_type": "code",
   "execution_count": 5,
   "metadata": {},
   "outputs": [],
   "source": [
    "segment_cyto_macro = \"\"\"\n",
    "#@ String title\n",
    "\n",
    "title_processed = title + \"_processed.tiff\";\n",
    "selectImage(title_processed);\n",
    "temp = title + \"_temp\";\n",
    "arg = \"title=\" + temp + \" duplicate\";\n",
    "run(\"Duplicate...\", arg);\n",
    "run(\"Median...\", \"radius=5 stack\");\n",
    "setAutoThreshold(\"Li dark stack\");\n",
    "//run(\"Threshold...\");\n",
    "run(\"Make Binary\", \"black\");\n",
    "run(\"Morphological Filters (3D)\", \"operation=Closing element=Ball x-radius=7 y-radius=7 z-radius=3\");\n",
    "close(temp);\n",
    "title = title + \"_cyto.tiff\";\n",
    "rename(title);\n",
    "\"\"\"\n",
    "\n",
    "result = ij.py.run_macro(segment_cyto_macro, {'title': title})"
   ]
  },
  {
   "cell_type": "markdown",
   "metadata": {},
   "source": [
    "### Automatically segment the cell membrane"
   ]
  },
  {
   "cell_type": "code",
   "execution_count": 6,
   "metadata": {},
   "outputs": [],
   "source": [
    "segment_membrane_macro = \"\"\"\n",
    "#@ String title\n",
    "\n",
    "title_cyto = title + \"_cyto.tiff\";\n",
    "title_erosion = title + \"_cyto-Erosion\";\n",
    "title_membrane = title + \"_membrane.tiff\";\n",
    "selectImage(title_cyto);\n",
    "run(\"Morphological Filters (3D)\", \"operation=Erosion element=Ball x-radius=1 y-radius=1 z-radius=1\");\n",
    "imageCalculator(\"Subtract create stack\", title_cyto, title_erosion);\n",
    "rename(title_membrane);\n",
    "close(title_erosion);\n",
    "\"\"\"\n",
    "\n",
    "result = ij.py.run_macro(segment_membrane_macro, {'title': title})"
   ]
  },
  {
   "cell_type": "markdown",
   "metadata": {},
   "source": [
    "### Manually segment the nuclei\n",
    "This will open up a GUI to help with segmentation\\\n",
    "Read the instructions at https://imagej.net/plugins/segmentation-editor#labelling"
   ]
  },
  {
   "cell_type": "code",
   "execution_count": 7,
   "metadata": {},
   "outputs": [],
   "source": [
    "segment_nuclei_macro = \"\"\"\n",
    "#@ String title\n",
    "\n",
    "title_processed = title + \"_processed.tiff\";\n",
    "title_nuclei = title + \"_nuclei.tiff\";\n",
    "selectImage(title_processed);\n",
    "call(\"Segmentation_Editor.newSegmentationEditor\");\n",
    "// Reset the material list\n",
    "call(\"Segmentation_Editor.newMaterials\");\n",
    "call(\"Segmentation_Editor.addMaterial\", \"Nuclei\", 255, 255, 255);\n",
    "\"\"\"\n",
    "\n",
    "result = ij.py.run_macro(segment_nuclei_macro, {'title': title})"
   ]
  },
  {
   "cell_type": "markdown",
   "metadata": {},
   "source": [
    "When finished with segmentation click Ok and run the following code:"
   ]
  },
  {
   "cell_type": "code",
   "execution_count": 8,
   "metadata": {},
   "outputs": [],
   "source": [
    "segment_nuclei_step2_macro = \"\"\"\n",
    "#@ String title\n",
    "\n",
    "title_cyto = title + \"_cyto.tiff\";\n",
    "title_nuclei = title + \"_nuclei.tiff\";\n",
    "title_labels = title + \"_processed.labels\";\n",
    "selectImage(title_labels);\n",
    "arg = \"title=\" + title_nuclei + \" duplicate\";\n",
    "run(\"Duplicate...\", arg);\n",
    "setThreshold(1, 65535, \"raw\");\n",
    "run(\"Make Binary\", \"black\");\n",
    "imageCalculator(\"AND stack\", title_nuclei, title_cyto);\n",
    "run(\"Grays\");\n",
    "selectImage(title_labels);\n",
    "run(\"Select All\");\n",
    "setBackgroundColor(0, 0, 0);\n",
    "run(\"Clear\", \"stack\");\n",
    "run(\"Select None\");\n",
    "\"\"\"\n",
    "\n",
    "result = ij.py.run_macro(segment_nuclei_step2_macro, {'title': title})"
   ]
  },
  {
   "cell_type": "markdown",
   "metadata": {},
   "source": [
    "OPTIONAL - Smooth the nuclei so they are more round"
   ]
  },
  {
   "cell_type": "code",
   "execution_count": 9,
   "metadata": {},
   "outputs": [],
   "source": [
    "smooth_nuclei_macro = \"\"\"\n",
    "#@ String title\n",
    "\n",
    "title_nuclei = title + \"_nuclei.tiff\";\n",
    "selectImage(title_nuclei);\n",
    "run(\"Gaussian Blur 3D...\", \"x=3 y=3 z=3\");\n",
    "setThreshold(128, 255, \"raw\");\n",
    "run(\"Make Binary\", \"background=Dark black\");\n",
    "\"\"\"\n",
    "\n",
    "result = ij.py.run_macro(smooth_nuclei_macro, {'title': title})"
   ]
  },
  {
   "cell_type": "markdown",
   "metadata": {},
   "source": [
    "### Automatically segment the nuclear membrane"
   ]
  },
  {
   "cell_type": "code",
   "execution_count": 10,
   "metadata": {},
   "outputs": [],
   "source": [
    "segment_nuclei_membrane_macro = \"\"\"\n",
    "#@ String title\n",
    "\n",
    "title_nuclei = title + \"_nuclei.tiff\";\n",
    "title_erosion = title + \"_nuclei-Erosion\";\n",
    "title_nuclei_membrane = title + \"_nuclei_membrane.tiff\";\n",
    "selectImage(title_nuclei);\n",
    "run(\"Morphological Filters (3D)\", \"operation=Erosion element=Ball x-radius=1 y-radius=1 z-radius=1\");\n",
    "imageCalculator(\"Subtract create stack\", title_nuclei, title_erosion);\n",
    "rename(title_nuclei_membrane);\n",
    "close(title_erosion);\n",
    "\"\"\"\n",
    "\n",
    "result = ij.py.run_macro(segment_nuclei_membrane_macro, {'title': title})"
   ]
  },
  {
   "cell_type": "markdown",
   "metadata": {},
   "source": [
    "### Manually segment the nucleoli"
   ]
  },
  {
   "cell_type": "code",
   "execution_count": 11,
   "metadata": {},
   "outputs": [],
   "source": [
    "segment_nucleoli_macro = \"\"\"\n",
    "#@ String title\n",
    "\n",
    "title_processed = title + \"_processed.tiff\";\n",
    "title_nucleoli = title + \"_nucleoli.tiff\";\n",
    "selectImage(title_processed);\n",
    "call(\"Segmentation_Editor.newSegmentationEditor\");\n",
    "// Reset the material list\n",
    "call(\"Segmentation_Editor.newMaterials\");\n",
    "call(\"Segmentation_Editor.addMaterial\", \"Nucleoli\", 255, 255, 255);\n",
    "\"\"\"\n",
    "\n",
    "result = ij.py.run_macro(segment_nucleoli_macro, {'title': title})"
   ]
  },
  {
   "cell_type": "markdown",
   "metadata": {},
   "source": [
    "When finished with segmentation click Ok and run the following code:"
   ]
  },
  {
   "cell_type": "code",
   "execution_count": 12,
   "metadata": {},
   "outputs": [],
   "source": [
    "segment_nucleoli_step2_macro = \"\"\"\n",
    "#@ String title\n",
    "\n",
    "title_nuclei = title + \"_nuclei.tiff\";\n",
    "title_nucleoli = title + \"_nucleoli.tiff\";\n",
    "title_labels = title + \"_processed.labels\";\n",
    "selectImage(title_labels);\n",
    "arg = \"title=\" + title_nucleoli + \" duplicate\";\n",
    "run(\"Duplicate...\", arg);\n",
    "setThreshold(1, 65535, \"raw\");\n",
    "run(\"Make Binary\", \"black\");\n",
    "imageCalculator(\"AND stack\", title_nucleoli, title_nuclei);\n",
    "run(\"Grays\");\n",
    "selectImage(title_labels);\n",
    "run(\"Select All\");\n",
    "setBackgroundColor(0, 0, 0);\n",
    "run(\"Clear\", \"stack\");\n",
    "run(\"Select None\");\n",
    "\"\"\"\n",
    "\n",
    "result = ij.py.run_macro(segment_nucleoli_step2_macro, {'title': title})"
   ]
  },
  {
   "cell_type": "markdown",
   "metadata": {},
   "source": [
    "OPTIONAL - Smooth the nucleoli so they are more round"
   ]
  },
  {
   "cell_type": "code",
   "execution_count": 13,
   "metadata": {},
   "outputs": [],
   "source": [
    "smooth_nucleoli_macro = \"\"\"\n",
    "#@ String title\n",
    "\n",
    "title_nucleoli = title + \"_nucleoli.tiff\";\n",
    "selectImage(title_nucleoli);\n",
    "run(\"Gaussian Blur 3D...\", \"x=3 y=3 z=3\");\n",
    "setThreshold(128, 255, \"raw\");\n",
    "run(\"Make Binary\", \"background=Dark black\");\n",
    "\"\"\"\n",
    "\n",
    "result = ij.py.run_macro(smooth_nucleoli_macro, {'title': title})"
   ]
  },
  {
   "cell_type": "markdown",
   "metadata": {},
   "source": [
    "### Automatically segment organelles"
   ]
  },
  {
   "cell_type": "code",
   "execution_count": 14,
   "metadata": {},
   "outputs": [],
   "source": [
    "\n",
    "segment_organelles_macro = \"\"\"\n",
    "#@ String title\n",
    "\n",
    "title_processed = title + \"_processed.tiff\";\n",
    "title_organelle = title + \"_organelle.tiff\";\n",
    "title_cyto = title + \"_cyto.tiff\";\n",
    "title_nuclei = title + \"_nuclei.tiff\";\n",
    "temp = title + \"_temp\";\n",
    "selectImage(title_processed);\n",
    "run(\"3D Iterative Thresholding\", \"min_vol_pix=600 max_vol_pix=12000 min_threshold=100 min_contrast=5 criteria_method=VOLUME threshold_method=STEP segment_results=All value_method=5\");\n",
    "rename(temp);\n",
    "setThreshold(1, 65535, \"raw\");\n",
    "run(\"Make Binary\", \"black\");\n",
    "run(\"Arrange Channels...\", \"new=1\");\n",
    "run(\"Morphological Filters (3D)\", \"operation=Dilation element=Ball x-radius=1 y-radius=1 z-radius=1\");\n",
    "rename(title_organelle);\n",
    "close(temp);\n",
    "imageCalculator(\"AND stack\", title_organelle, title_cyto);\n",
    "imageCalculator(\"Subtract stack\", title_organelle, title_nuclei);\n",
    "\"\"\"\n",
    "\n",
    "result = ij.py.run_macro(segment_organelles_macro, {'title': title})"
   ]
  },
  {
   "cell_type": "markdown",
   "metadata": {},
   "source": [
    "### Automatically segment the organelle membranes"
   ]
  },
  {
   "cell_type": "code",
   "execution_count": 15,
   "metadata": {},
   "outputs": [],
   "source": [
    "segment_organelle_membrane_macro = \"\"\"\n",
    "#@ String title\n",
    "\n",
    "title_organelle_membrane = title + \"_organelle_membrane.tiff\";\n",
    "title_erosion = title + \"_organelle-Erosion\";\n",
    "title_organelle = title + \"_organelle.tiff\";\n",
    "selectImage(title_organelle);\n",
    "run(\"Morphological Filters (3D)\", \"operation=Erosion element=Ball x-radius=1 y-radius=1 z-radius=1\");\n",
    "imageCalculator(\"Subtract create stack\", title_organelle, title_erosion);\n",
    "rename(title_organelle_membrane);\n",
    "close(title_erosion);\n",
    "\"\"\"\n",
    "\n",
    "result = ij.py.run_macro(segment_organelle_membrane_macro, {'title': title})"
   ]
  },
  {
   "cell_type": "markdown",
   "metadata": {},
   "source": [
    "### Save all open images\n",
    "Close any images that you don't want to be saved"
   ]
  },
  {
   "cell_type": "code",
   "execution_count": 16,
   "metadata": {},
   "outputs": [],
   "source": [
    "save_macro = r\"\"\"\n",
    "#@ String output_dir\n",
    "output_dir = output_dir + \"\\\\\";\n",
    "\n",
    "for (i=0; i<nImages; i++) {\n",
    "        selectImage(i+1);\n",
    "        title = getTitle;\n",
    "        print(output_dir + title);\n",
    "        saveAs(\"tiff\", output_dir + title);\n",
    "} \n",
    "\"\"\"\n",
    "\n",
    "result = ij.py.run_macro(save_macro, {'output_dir': output_dir})"
   ]
  },
  {
   "cell_type": "markdown",
   "metadata": {},
   "source": [
    "OPTIONAL - save a copy of the tiff files as npy"
   ]
  },
  {
   "cell_type": "code",
   "execution_count": 31,
   "metadata": {},
   "outputs": [],
   "source": [
    "import tifffile\n",
    "import numpy as np\n",
    "for tiff_path in Path(output_dir).glob(\"*.tiff\"):\n",
    "    img = tifffile.imread(tiff_path)\n",
    "    img = np.moveaxis(img, 2, 0) # rearrange axes to be minecraft (x, y, z)\n",
    "    bool_img = img.astype(\"bool\")\n",
    "    np.save(tiff_path.with_suffix(\".npy\"), bool_img)"
   ]
  },
  {
   "cell_type": "markdown",
   "metadata": {},
   "source": [
    "### Simple quantitative analysis"
   ]
  },
  {
   "cell_type": "code",
   "execution_count": 24,
   "metadata": {},
   "outputs": [
    {
     "name": "stdout",
     "output_type": "stream",
     "text": [
      "breast_cancer cyto sum:  723402615\n",
      "breast_cancer nuclei sum:  64263315\n",
      "breast_cancer nucleoli sum:  3317040\n",
      "breast_cancer nuclei cytoplasm ratio: 0.08883478393287257\n",
      "breast_cancer nucleoli nuclei ratio: 0.05161638486903453\n"
     ]
    }
   ],
   "source": [
    "import tifffile\n",
    "\n",
    "cyto = tifffile.imread(output_dir + \"\\\\\" + title + \"_cyto.tiff\")\n",
    "nuclei = tifffile.imread(output_dir + \"\\\\\" + title + \"_nuclei.tiff\")\n",
    "nucleoli = tifffile.imread(output_dir + \"\\\\\" + title + \"_nucleoli.tiff\")\n",
    "\n",
    "print(f\"{title} cyto sum: \", cyto.sum())\n",
    "print(f\"{title} nuclei sum: \", nuclei.sum())\n",
    "print(f\"{title} nucleoli sum: \", nucleoli.sum())\n",
    "nc_ratio = nuclei.sum() / cyto.sum()\n",
    "print(f\"{title} nuclei cytoplasm ratio: {nc_ratio}\")\n",
    "nn_ratio = nucleoli.sum() / nuclei.sum()\n",
    "print(f\"{title} nucleoli nuclei ratio: {nn_ratio}\")"
   ]
  },
  {
   "cell_type": "markdown",
   "metadata": {},
   "source": [
    "# Part 2 - Create a Schematic for import into Minecraft\n",
    "\n",
    "The following code uses `mcschematic` to create a `.schem` file that can be imported into Minecraft using Amulet or Worldedit. For a more interactive experience, the GUI can be used for this step.\n",
    "\n",
    "### Install mcschematic with pip\n",
    "\n",
    "```\n",
    "pip install mcschematic\n",
    "```"
   ]
  },
  {
   "cell_type": "code",
   "execution_count": 25,
   "metadata": {},
   "outputs": [],
   "source": [
    "import mcschematic\n",
    "import tifffile\n",
    "import numpy as np\n",
    "from pathlib import Path\n",
    "\n",
    "def write_image(schem : mcschematic.MCSchematic, bool_image : np.ndarray, block_data : str):\n",
    "    \"\"\"Writes a boolean image to a schematic.\"\"\"\n",
    "    assert bool_image.ndim == 3\n",
    "    for idx, bool_value in np.ndenumerate(bool_image):\n",
    "        if bool_value:\n",
    "            schem.setBlock(idx, block_data)\n",
    "    \n",
    "def read_tiff(path : str):\n",
    "    \"\"\"reads a tiff stack (in ImageJ format z, y, x) and returns a minecraft compatible boolean image.\"\"\"\n",
    "    # remove color channel\n",
    "    img = tifffile.imread(path)\n",
    "    if img.ndim == 4:\n",
    "        img = img.sum(axis=-1)\n",
    "    # rearrange axes to (x, z, y) to be compatible with Minecraft.\n",
    "    # The first axis is West->East, the second is Bottom->Top, and the last is North->South\n",
    "    img = np.moveaxis(img, 2, 0)\n",
    "    bool_img = img.astype(\"bool\") # convert to boolean\n",
    "    return bool_img\n",
    "\n",
    "def read_npy(path : str):\n",
    "    \"\"\"reads a boolean image from a numpy file.\"\"\"\n",
    "    img = np.load(path)\n",
    "    bool_img = img.astype(\"bool\") # ensure boolean\n",
    "    return bool_img"
   ]
  },
  {
   "cell_type": "markdown",
   "metadata": {},
   "source": [
    "### Create schematic"
   ]
  },
  {
   "cell_type": "code",
   "execution_count": 26,
   "metadata": {},
   "outputs": [],
   "source": [
    "schem = mcschematic.MCSchematic()\n",
    "\n",
    "path = Path(output_dir) / f\"{title}_organelle.tiff\"\n",
    "block = \"minecraft:lime_concrete\"\n",
    "write_image(schem, read_tiff(path), block)\n",
    "\n",
    "path = Path(output_dir) / f\"{title}_organelle_membrane.tiff\"\n",
    "block = \"minecraft:yellow_stained_glass\"\n",
    "write_image(schem, read_tiff(path), block)\n",
    "\n",
    "path = Path(output_dir) / f\"{title}_nucleoli.tiff\"\n",
    "block = \"minecraft:purple_concrete\"\n",
    "write_image(schem, read_tiff(path), block)\n",
    "\n",
    "path = Path(output_dir) / f\"{title}_nuclei_membrane.tiff\"\n",
    "block = \"minecraft:pink_stained_glass\"\n",
    "write_image(schem, read_tiff(path), block)\n",
    "\n",
    "path = Path(output_dir) / f\"{title}_membrane.tiff\"\n",
    "block = \"minecraft:light_blue_stained_glass\"\n",
    "write_image(schem, read_tiff(path), block)\n",
    "\n",
    "schem.save(output_dir, title + \"_schematic\", mcschematic.Version.JE_1_20)"
   ]
  }
 ],
 "metadata": {
  "kernelspec": {
   "display_name": "venv",
   "language": "python",
   "name": "python3"
  },
  "language_info": {
   "codemirror_mode": {
    "name": "ipython",
    "version": 3
   },
   "file_extension": ".py",
   "mimetype": "text/x-python",
   "name": "python",
   "nbconvert_exporter": "python",
   "pygments_lexer": "ipython3",
   "version": "3.9.19"
  }
 },
 "nbformat": 4,
 "nbformat_minor": 2
}
